{
 "cells": [
  {
   "cell_type": "markdown",
   "metadata": {},
   "source": [
    "[![Open In Colab](https://colab.research.google.com/assets/colab-badge.svg)](https://colab.research.google.com/github/aurelio-labs/cookbook/blob/main/gen-ai/google-ai/gemini-2/web-search.ipynb) [![Open nbviewer](https://raw.githubusercontent.com/pinecone-io/examples/master/assets/nbviewer-shield.svg)](https://nbviewer.org/github/aurelio-labs/cookbook/blob/main/gen-ai/google-ai/gemini-2/web-search.ipynb)"
   ]
  },
  {
   "cell_type": "markdown",
   "metadata": {},
   "source": [
    "# Gemini 2.0 Flash Web Search + Citations"
   ]
  },
  {
   "cell_type": "markdown",
   "metadata": {},
   "source": [
    "## Setup Instructions"
   ]
  },
  {
   "cell_type": "markdown",
   "metadata": {},
   "source": [
    "This notebook has been tested both locally with Python `3.12.7` and in Google Colab with Python `3.10.12`.\n",
    "\n",
    "To run locally, please refer to the [setup instructions with `uv` here](https://github.com/aurelio-labs/agents-course/blob/main/local-setup.md). To run in Google Colab, simply run all cells in the notebook."
   ]
  },
  {
   "cell_type": "markdown",
   "metadata": {},
   "source": [
    "## Setup with Google AI"
   ]
  },
  {
   "cell_type": "markdown",
   "metadata": {},
   "source": [
    "To begin, we will need a Google API key. For that, you can setup an account in [Google AI Studio](https://aistudio.google.com). To initialize and begin using Gemini 2 that is all we need, but later we will need to upgrade our plan to get access to the Google Search tool.\n",
    "\n",
    "After you have your account and API key, we initialize our [`google.genai` client](https://github.com/googleapis/python-genai):"
   ]
  },
  {
   "cell_type": "code",
   "execution_count": 1,
   "metadata": {},
   "outputs": [],
   "source": [
    "import os\n",
    "from getpass import getpass\n",
    "from google import genai\n",
    "\n",
    "# pass your API key here\n",
    "os.environ[\"GOOGLE_API_KEY\"] = os.getenv(\"GOOGLE_API_KEY\") or getpass(\n",
    "    \"Enter Google API Key: \"\n",
    ")\n",
    "# initialize our client\n",
    "client = genai.Client()"
   ]
  },
  {
   "cell_type": "markdown",
   "metadata": {},
   "source": [
    "To generate some text with Gemini we call the `generate_content` method, Gemini does tend to respond with markdown, and is pretty verbose, so we'll use IPython's `Markdown` to display the output."
   ]
  },
  {
   "cell_type": "code",
   "execution_count": 2,
   "metadata": {},
   "outputs": [
    {
     "data": {
      "text/markdown": [
       "Gemini is a family of large language models (LLMs) developed by Google. It's designed to be multimodal, meaning it can understand and process information across different types of data, including text, code, audio, images, and video. \n",
       "\n",
       "Here's a breakdown of key aspects of Gemini:\n",
       "\n",
       "**Key Features:**\n",
       "\n",
       "* **Multimodal Capabilities:** This is Gemini's biggest differentiator. Unlike many previous LLMs that primarily focused on text, Gemini can work with a wider range of inputs, making it more versatile and powerful.\n",
       "* **Advanced Reasoning and Problem Solving:** Gemini is designed to tackle complex tasks, including those requiring logical reasoning, mathematical calculations, and even abstract thinking.\n",
       "* **Code Generation:** It can write code in various programming languages, making it a valuable tool for developers.\n",
       "* **Image and Video Understanding:** Gemini can analyze images and videos, identify objects, and understand the content being presented.\n",
       "* **Natural Language Understanding and Generation:** Like other LLMs, Gemini excels at understanding and generating human-like text. This includes tasks like translation, summarization, creative writing, and question answering.\n",
       "* **Scalability:** Gemini models come in different sizes (Ultra, Pro, and Nano), allowing them to be deployed on a wide range of devices, from data centers to mobile phones.\n",
       "* **Integration with Google Products:** Gemini is being integrated into various Google products, such as Google Search, Bard, Workspace apps, and Android.\n",
       "\n",
       "**Gemini Models:**\n",
       "\n",
       "* **Gemini Ultra:** The most powerful model, designed for complex and demanding tasks. It is intended for use in data centers and cloud environments.\n",
       "* **Gemini Pro:** A balanced model that offers strong performance across a wide range of tasks and is well-suited for general-purpose applications.\n",
       "* **Gemini Nano:** The smallest and most efficient model, designed for on-device processing on mobile phones and other resource-constrained devices.\n",
       "\n",
       "**How it's Different from Previous Models:**\n",
       "\n",
       "* **Multimodality:** This is the biggest difference. Prior LLMs were largely text-based. Gemini's ability to handle multiple modalities is a significant advancement.\n",
       "* **Advanced Capabilities:** Gemini has been shown to outperform previous models on various benchmarks, indicating its superior reasoning and problem-solving skills.\n",
       "* **Scalability:** The availability of different model sizes makes Gemini more accessible for a wider range of use cases.\n",
       "\n",
       "**Potential Uses:**\n",
       "\n",
       "Gemini has the potential to be used in a wide variety of applications, including:\n",
       "\n",
       "* **Search:** Enhancing search results with more accurate and comprehensive information.\n",
       "* **Content Creation:** Generating text, code, images, and videos.\n",
       "* **Translation:** Providing more accurate and natural-sounding translations.\n",
       "* **Personalized Experiences:** Tailoring content and services to individual needs.\n",
       "* **Scientific Research:** Accelerating discoveries by analyzing complex data.\n",
       "* **Education:** Creating new learning tools and personalized educational experiences.\n",
       "* **Healthcare:** Assisting doctors with diagnosis and treatment plans.\n",
       "\n",
       "**In Summary:**\n",
       "\n",
       "Gemini is a cutting-edge family of large language models that represents a significant leap forward in AI technology. Its multimodal capabilities, advanced reasoning, and scalability make it a powerful tool with the potential to impact many different areas of our lives. As the technology continues to evolve, we can expect even more exciting applications and advancements based on the Gemini architecture.\n"
      ],
      "text/plain": [
       "<IPython.core.display.Markdown object>"
      ]
     },
     "execution_count": 2,
     "metadata": {},
     "output_type": "execute_result"
    }
   ],
   "source": [
    "from IPython.display import Markdown\n",
    "\n",
    "model_id = \"gemini-2.0-flash-exp\"\n",
    "\n",
    "response = client.models.generate_content(\n",
    "    model=model_id, contents='What is Gemini?'\n",
    ")\n",
    "Markdown(response.text)"
   ]
  },
  {
   "cell_type": "markdown",
   "metadata": {},
   "source": [
    "We got a pretty descriptive response. Now let's take a look at tool use in Gemini, starting with the `GoogleSearch` tool.\n",
    "\n",
    "_Note: to use this tool, you **must** upgrade your plan, you can do that by navigating to your Google AI studio settings and clicking the **API Plan Information** link. For the purposes of this notebook, you should be covered by their free allowance but in any case you must have billing enabled._"
   ]
  },
  {
   "cell_type": "code",
   "execution_count": 3,
   "metadata": {},
   "outputs": [],
   "source": [
    "from google.genai.types import Tool, GoogleSearch\n",
    "\n",
    "search_tool = Tool(google_search=GoogleSearch())"
   ]
  },
  {
   "cell_type": "markdown",
   "metadata": {},
   "source": [
    "To use the tool, we must create a [`GenerateContentConfig` object](https://github.com/googleapis/python-genai/blob/cf3c476ea300acc09b514d23b5f1f08c05efce60/google/genai/types.py#L1404). This object is used to configure input into Gemini, this can include `system_instructions`, `temperature`, `max_output_tokens`, our `response_modalities`, and _very importantly_, our `tools`.\n",
    "\n",
    "Most of these parameters are optional and the _defaults_ seem to depend on the model being used although it isn't clear what the default parameters are for Gemini 2.0 Flash. Nonetheless, for parameters whose defaults are more easily guessable we have included them in our `config` object definition below."
   ]
  },
  {
   "cell_type": "code",
   "execution_count": 4,
   "metadata": {},
   "outputs": [
    {
     "data": {
      "text/plain": [
       "GenerateContentConfig(system_instruction='You are a helpful assistant that provides up to date information to help the user in their research.', temperature=0.0, top_p=None, top_k=None, candidate_count=1, max_output_tokens=None, stop_sequences=None, response_logprobs=None, logprobs=None, presence_penalty=None, frequency_penalty=None, seed=None, response_mime_type=None, response_schema=None, routing_config=None, safety_settings=None, tools=[Tool(function_declarations=None, retrieval=None, google_search=GoogleSearch(), google_search_retrieval=None, code_execution=None)], tool_config=None, cached_content=None, response_modalities=['TEXT'], media_resolution=None, speech_config=None, automatic_function_calling=None)"
      ]
     },
     "execution_count": 4,
     "metadata": {},
     "output_type": "execute_result"
    }
   ],
   "source": [
    "from google.genai.types import GenerateContentConfig\n",
    "\n",
    "config = GenerateContentConfig(\n",
    "    system_instruction=(\n",
    "        \"You are a helpful assistant that provides up to date information \"\n",
    "        \"to help the user in their research.\"\n",
    "    ),\n",
    "    tools=[search_tool],\n",
    "    response_modalities=[\"TEXT\"],\n",
    "    temperature=0.0,  # likely default\n",
    "    candidate_count=1,  # likely default\n",
    "    # following are some other parameters, all optional\n",
    "    #top_p,\n",
    "    #top_k,\n",
    "    #max_output_tokens,\n",
    "    #max_tokens,\n",
    "    #stop_sequences,\n",
    "    #safety_settings,\n",
    ")\n",
    "config"
   ]
  },
  {
   "cell_type": "markdown",
   "metadata": {},
   "source": [
    "Now we have our `config` setup, we can go ahead and ask Gemini about the latest news in AI, by default Gemini would not be able to answer this question, but we can get up to date information by augmenting Gemini's knowledge with the `GoogleSearch` tool."
   ]
  },
  {
   "cell_type": "code",
   "execution_count": 5,
   "metadata": {},
   "outputs": [
    {
     "data": {
      "text/markdown": [
       "Here's a rundown of the latest news in AI:\n",
       "\n",
       "**AI Model Development & Advancements:**\n",
       "\n",
       "*   **Google's New Generative AI Models:** Google Cloud has launched two new generative AI models, Veo and Imagen 3, on its Vertex AI platform. This comes amid reports of significant revenue growth for enterprises using generative AI.\n",
       "*   **Teaching Robots Limits:** MIT researchers have developed a method called \"PRoC3S\" that helps large language models (LLMs) create safe action plans for robots by testing each step in a simulation. This could help robots complete more complex tasks in the future.\n",
       "*   **Reducing Bias in AI:** Researchers have created a new technique to identify and remove training examples that contribute to failures in machine learning models, which helps reduce bias while maintaining or improving accuracy.\n",
       "*   **AI Explanations in Plain Language:** Researchers are using LLMs to convert machine-learning explanations into easy-to-understand narratives. This could help users make better decisions about when to trust an AI model.\n",
       "\n",
       "**AI in Specific Fields:**\n",
       "\n",
       "*   **AI and Mental Health:** There is growing discussion about the potential of AI in mental health, with experts exploring its possibilities.\n",
       "*   **AI in Healthcare:** AI is changing how doctors access medical knowledge. There is also a call for regulation of AI models and non-AI algorithms in healthcare.\n",
       "*   **AI in Media:** AI video generation is transforming media, with new tools like Sora emerging. This raises questions about the strengths and challenges of AI-generated content.\n",
       "\n",
       "**Other Notable AI News:**\n",
       "\n",
       "*   **AI Political Bias:** Research from MIT has found that some language reward models exhibit political bias, even when trained on factual data.\n",
       "*   **AI Deepfakes:** There is increasing discussion on how to spot AI deepfake videos in an era of digital deception.\n",
       "*   **AI Partner Programs:** Alibaba Cloud is overhauling its AI partner ecosystem with new initiatives, including an AI partner accelerator program.\n",
       "*   **AI in Robotics:** Daniela Rus, director of MIT CSAIL, has won the John Scott Award for her robotics research.\n",
       "\n",
       "**General Trends:**\n",
       "\n",
       "*   **AI Regulation:** There is an ongoing discussion about the need for regulation of AI, particularly in sensitive fields like healthcare.\n",
       "*   **AI Learning:** There are many free online courses available for those who want to learn about AI in 2025.\n",
       "\n",
       "This information is based on the latest news articles available as of today, December 14, 2024.\n"
      ],
      "text/plain": [
       "<IPython.core.display.Markdown object>"
      ]
     },
     "execution_count": 5,
     "metadata": {},
     "output_type": "execute_result"
    }
   ],
   "source": [
    "response = client.models.generate_content(\n",
    "    model=model_id,\n",
    "    contents=\"Tell me the latest news in AI\",\n",
    "    config=config\n",
    ")\n",
    "Markdown(response.text)"
   ]
  },
  {
   "cell_type": "markdown",
   "metadata": {},
   "source": [
    "We can look at the `grounding_metadata` to see what sources were used to generate the response."
   ]
  },
  {
   "cell_type": "code",
   "execution_count": 6,
   "metadata": {},
   "outputs": [
    {
     "data": {
      "text/plain": [
       "{'grounding_chunks': [GroundingChunk(retrieved_context=None, web=GroundingChunkWeb(title='artificialintelligence-news.com', uri='https://vertexaisearch.cloud.google.com/grounding-api-redirect/AYygrcRQ5GdEmPgNzz3r4AaXQCtleWqP29sDHuwddXo_M992yvPTKTJZ8XapssxVUUxcWNLhCpAUNm0XMrlfmJ53DmO7tQDUmu3iOwOuo8vb08TRdaXL8jSguBgqUdjGduo3KdQTQw==')),\n",
       "  GroundingChunk(retrieved_context=None, web=GroundingChunkWeb(title='mit.edu', uri='https://vertexaisearch.cloud.google.com/grounding-api-redirect/AYygrcQwqsNU9baZEBILLWnA5mDuqvUSEfmb_E12Z8K6sa0MlOs-oOXZptSmFPVld5veeEV-cp9HsYpnrBzHGYLmtotIJl-m_rI2LQxpGEqn4Ywish1WATGSkv1RCCFn0vqfr4NlqQcVwN-kobI=')),\n",
       "  GroundingChunk(retrieved_context=None, web=GroundingChunkWeb(title='forbes.com', uri='https://vertexaisearch.cloud.google.com/grounding-api-redirect/AYygrcSGcTcJ4fsucHQfs_GXQ2-yE8eORAiz-lPxOcdt7Z-Ijr1yizEt2vHBaJo_Xch79fUka-8xfRSK2G69kJYZmjCJajX8ofcsDr4g6R7f9P2aAdL2iZkrmCQtuWsRd25xD1sI00OC2FdExhskRPY='))],\n",
       " 'grounding_supports': [GroundingSupport(confidence_scores=[0.8782686], grounding_chunk_indices=[0], segment=Segment(end_index=229, part_index=None, start_index=86, text=\"*   **Google's New Generative AI Models:** Google Cloud has launched two new generative AI models, Veo and Imagen 3, on its Vertex AI platform.\")),\n",
       "  GroundingSupport(confidence_scores=[0.8888342], grounding_chunk_indices=[0], segment=Segment(end_index=320, part_index=None, start_index=230, text='This comes amid reports of significant revenue growth for enterprises using generative AI.')),\n",
       "  GroundingSupport(confidence_scores=[0.73191243], grounding_chunk_indices=[1], segment=Segment(end_index=522, part_index=None, start_index=321, text='*   **Teaching Robots Limits:** MIT researchers have developed a method called \"PRoC3S\" that helps large language models (LLMs) create safe action plans for robots by testing each step in a simulation.')),\n",
       "  GroundingSupport(confidence_scores=[0.74100494], grounding_chunk_indices=[1], segment=Segment(end_index=588, part_index=None, start_index=523, text='This could help robots complete more complex tasks in the future.')),\n",
       "  GroundingSupport(confidence_scores=[0.95988286], grounding_chunk_indices=[1], segment=Segment(end_index=820, part_index=None, start_index=589, text='*   **Reducing Bias in AI:** Researchers have created a new technique to identify and remove training examples that contribute to failures in machine learning models, which helps reduce bias while maintaining or improving accuracy.')),\n",
       "  GroundingSupport(confidence_scores=[0.85801923], grounding_chunk_indices=[1], segment=Segment(end_index=967, part_index=None, start_index=821, text='*   **AI Explanations in Plain Language:** Researchers are using LLMs to convert machine-learning explanations into easy-to-understand narratives.')),\n",
       "  GroundingSupport(confidence_scores=[0.8851399], grounding_chunk_indices=[1], segment=Segment(end_index=1044, part_index=None, start_index=968, text='This could help users make better decisions about when to trust an AI model.')),\n",
       "  GroundingSupport(confidence_scores=[0.61632144], grounding_chunk_indices=[1], segment=Segment(end_index=1382, part_index=None, start_index=1297, text='There is also a call for regulation of AI models and non-AI algorithms in healthcare.')),\n",
       "  GroundingSupport(confidence_scores=[0.9884688], grounding_chunk_indices=[1], segment=Segment(end_index=1739, part_index=None, start_index=1593, text='*   **AI Political Bias:** Research from MIT has found that some language reward models exhibit political bias, even when trained on factual data.')),\n",
       "  GroundingSupport(confidence_scores=[0.9286032], grounding_chunk_indices=[0], segment=Segment(end_index=2008, part_index=None, start_index=1859, text='*   **AI Partner Programs:** Alibaba Cloud is overhauling its AI partner ecosystem with new initiatives, including an AI partner accelerator program.')),\n",
       "  GroundingSupport(confidence_scores=[0.9734461], grounding_chunk_indices=[1], segment=Segment(end_index=2124, part_index=None, start_index=2009, text='*   **AI in Robotics:** Daniela Rus, director of MIT CSAIL, has won the John Scott Award for her robotics research.')),\n",
       "  GroundingSupport(confidence_scores=[0.6706448], grounding_chunk_indices=[2], segment=Segment(end_index=2399, part_index=None, start_index=2288, text='*   **AI Learning:** There are many free online courses available for those who want to learn about AI in 2025.'))],\n",
       " 'retrieval_metadata': None,\n",
       " 'retrieval_queries': None,\n",
       " 'search_entry_point': SearchEntryPoint(rendered_content='<style>\\n.container {\\n  align-items: center;\\n  border-radius: 8px;\\n  display: flex;\\n  font-family: Google Sans, Roboto, sans-serif;\\n  font-size: 14px;\\n  line-height: 20px;\\n  padding: 8px 12px;\\n}\\n.chip {\\n  display: inline-block;\\n  border: solid 1px;\\n  border-radius: 16px;\\n  min-width: 14px;\\n  padding: 5px 16px;\\n  text-align: center;\\n  user-select: none;\\n  margin: 0 8px;\\n  -webkit-tap-highlight-color: transparent;\\n}\\n.carousel {\\n  overflow: auto;\\n  scrollbar-width: none;\\n  white-space: nowrap;\\n  margin-right: -12px;\\n}\\n.headline {\\n  display: flex;\\n  margin-right: 4px;\\n}\\n.gradient-container {\\n  position: relative;\\n}\\n.gradient {\\n  position: absolute;\\n  transform: translate(3px, -9px);\\n  height: 36px;\\n  width: 9px;\\n}\\n@media (prefers-color-scheme: light) {\\n  .container {\\n    background-color: #fafafa;\\n    box-shadow: 0 0 0 1px #0000000f;\\n  }\\n  .headline-label {\\n    color: #1f1f1f;\\n  }\\n  .chip {\\n    background-color: #ffffff;\\n    border-color: #d2d2d2;\\n    color: #5e5e5e;\\n    text-decoration: none;\\n  }\\n  .chip:hover {\\n    background-color: #f2f2f2;\\n  }\\n  .chip:focus {\\n    background-color: #f2f2f2;\\n  }\\n  .chip:active {\\n    background-color: #d8d8d8;\\n    border-color: #b6b6b6;\\n  }\\n  .logo-dark {\\n    display: none;\\n  }\\n  .gradient {\\n    background: linear-gradient(90deg, #fafafa 15%, #fafafa00 100%);\\n  }\\n}\\n@media (prefers-color-scheme: dark) {\\n  .container {\\n    background-color: #1f1f1f;\\n    box-shadow: 0 0 0 1px #ffffff26;\\n  }\\n  .headline-label {\\n    color: #fff;\\n  }\\n  .chip {\\n    background-color: #2c2c2c;\\n    border-color: #3c4043;\\n    color: #fff;\\n    text-decoration: none;\\n  }\\n  .chip:hover {\\n    background-color: #353536;\\n  }\\n  .chip:focus {\\n    background-color: #353536;\\n  }\\n  .chip:active {\\n    background-color: #464849;\\n    border-color: #53575b;\\n  }\\n  .logo-light {\\n    display: none;\\n  }\\n  .gradient {\\n    background: linear-gradient(90deg, #1f1f1f 15%, #1f1f1f00 100%);\\n  }\\n}\\n</style>\\n<div class=\"container\">\\n  <div class=\"headline\">\\n    <svg class=\"logo-light\" width=\"18\" height=\"18\" viewBox=\"9 9 35 35\" fill=\"none\" xmlns=\"http://www.w3.org/2000/svg\">\\n      <path fill-rule=\"evenodd\" clip-rule=\"evenodd\" d=\"M42.8622 27.0064C42.8622 25.7839 42.7525 24.6084 42.5487 23.4799H26.3109V30.1568H35.5897C35.1821 32.3041 33.9596 34.1222 32.1258 35.3448V39.6864H37.7213C40.9814 36.677 42.8622 32.2571 42.8622 27.0064V27.0064Z\" fill=\"#4285F4\"/>\\n      <path fill-rule=\"evenodd\" clip-rule=\"evenodd\" d=\"M26.3109 43.8555C30.9659 43.8555 34.8687 42.3195 37.7213 39.6863L32.1258 35.3447C30.5898 36.3792 28.6306 37.0061 26.3109 37.0061C21.8282 37.0061 18.0195 33.9811 16.6559 29.906H10.9194V34.3573C13.7563 39.9841 19.5712 43.8555 26.3109 43.8555V43.8555Z\" fill=\"#34A853\"/>\\n      <path fill-rule=\"evenodd\" clip-rule=\"evenodd\" d=\"M16.6559 29.8904C16.3111 28.8559 16.1074 27.7588 16.1074 26.6146C16.1074 25.4704 16.3111 24.3733 16.6559 23.3388V18.8875H10.9194C9.74388 21.2072 9.06992 23.8247 9.06992 26.6146C9.06992 29.4045 9.74388 32.022 10.9194 34.3417L15.3864 30.8621L16.6559 29.8904V29.8904Z\" fill=\"#FBBC05\"/>\\n      <path fill-rule=\"evenodd\" clip-rule=\"evenodd\" d=\"M26.3109 16.2386C28.85 16.2386 31.107 17.1164 32.9095 18.8091L37.8466 13.8719C34.853 11.082 30.9659 9.3736 26.3109 9.3736C19.5712 9.3736 13.7563 13.245 10.9194 18.8875L16.6559 23.3388C18.0195 19.2636 21.8282 16.2386 26.3109 16.2386V16.2386Z\" fill=\"#EA4335\"/>\\n    </svg>\\n    <svg class=\"logo-dark\" width=\"18\" height=\"18\" viewBox=\"0 0 48 48\" xmlns=\"http://www.w3.org/2000/svg\">\\n      <circle cx=\"24\" cy=\"23\" fill=\"#FFF\" r=\"22\"/>\\n      <path d=\"M33.76 34.26c2.75-2.56 4.49-6.37 4.49-11.26 0-.89-.08-1.84-.29-3H24.01v5.99h8.03c-.4 2.02-1.5 3.56-3.07 4.56v.75l3.91 2.97h.88z\" fill=\"#4285F4\"/>\\n      <path d=\"M15.58 25.77A8.845 8.845 0 0 0 24 31.86c1.92 0 3.62-.46 4.97-1.31l4.79 3.71C31.14 36.7 27.65 38 24 38c-5.93 0-11.01-3.4-13.45-8.36l.17-1.01 4.06-2.85h.8z\" fill=\"#34A853\"/>\\n      <path d=\"M15.59 20.21a8.864 8.864 0 0 0 0 5.58l-5.03 3.86c-.98-2-1.53-4.25-1.53-6.64 0-2.39.55-4.64 1.53-6.64l1-.22 3.81 2.98.22 1.08z\" fill=\"#FBBC05\"/>\\n      <path d=\"M24 14.14c2.11 0 4.02.75 5.52 1.98l4.36-4.36C31.22 9.43 27.81 8 24 8c-5.93 0-11.01 3.4-13.45 8.36l5.03 3.85A8.86 8.86 0 0 1 24 14.14z\" fill=\"#EA4335\"/>\\n    </svg>\\n    <div class=\"gradient-container\"><div class=\"gradient\"></div></div>\\n  </div>\\n  <div class=\"carousel\">\\n    <a class=\"chip\" href=\"https://vertexaisearch.cloud.google.com/grounding-api-redirect/AYygrcT2hZjcswqPYya4j4c1WdTYAVKOhcTeEf__Iyefj5KPzwiMl9YmA_EJJecfjqVajrtzyQLhTBVm1h9rxD6wSXDjI--_Ncpn6p28-h0WcxR9CA4pkHgTh9bs7my1HPs6zvytPvI7Pkj-Ipll1V-ufY9DcVjD5jhE9khSMxyOcar2SMn3NFsBl0626gVIMYix5w==\">latest news in AI</a>\\n  </div>\\n</div>\\n', sdk_blob=None),\n",
       " 'web_search_queries': ['latest news in AI']}"
      ]
     },
     "execution_count": 6,
     "metadata": {},
     "output_type": "execute_result"
    }
   ],
   "source": [
    "response.candidates[0].grounding_metadata.__dict__"
   ]
  },
  {
   "cell_type": "markdown",
   "metadata": {},
   "source": [
    "Each source used is collected inside a `GroundingChunk` object. Inside that we can access the `web` property which contains a `GroundingChunkWeb` containing the source website `title` and `uri`, which we can use to build a list of sources:"
   ]
  },
  {
   "cell_type": "code",
   "execution_count": 7,
   "metadata": {},
   "outputs": [
    {
     "data": {
      "text/markdown": [
       "[1] [artificialintelligence-news.com](https://vertexaisearch.cloud.google.com/grounding-api-redirect/AYygrcRQ5GdEmPgNzz3r4AaXQCtleWqP29sDHuwddXo_M992yvPTKTJZ8XapssxVUUxcWNLhCpAUNm0XMrlfmJ53DmO7tQDUmu3iOwOuo8vb08TRdaXL8jSguBgqUdjGduo3KdQTQw==)\n",
       "\n",
       "[2] [mit.edu](https://vertexaisearch.cloud.google.com/grounding-api-redirect/AYygrcQwqsNU9baZEBILLWnA5mDuqvUSEfmb_E12Z8K6sa0MlOs-oOXZptSmFPVld5veeEV-cp9HsYpnrBzHGYLmtotIJl-m_rI2LQxpGEqn4Ywish1WATGSkv1RCCFn0vqfr4NlqQcVwN-kobI=)\n",
       "\n",
       "[3] [forbes.com](https://vertexaisearch.cloud.google.com/grounding-api-redirect/AYygrcSGcTcJ4fsucHQfs_GXQ2-yE8eORAiz-lPxOcdt7Z-Ijr1yizEt2vHBaJo_Xch79fUka-8xfRSK2G69kJYZmjCJajX8ofcsDr4g6R7f9P2aAdL2iZkrmCQtuWsRd25xD1sI00OC2FdExhskRPY=)\n",
       "\n"
      ],
      "text/plain": [
       "<IPython.core.display.Markdown object>"
      ]
     },
     "execution_count": 7,
     "metadata": {},
     "output_type": "execute_result"
    }
   ],
   "source": [
    "link_str = \"\"\n",
    "for i, chunk in enumerate(response.candidates[0].grounding_metadata.grounding_chunks):\n",
    "    title = chunk.web.title\n",
    "    link = chunk.web.uri\n",
    "    link_str += f\"[{i+1}] [{title}]({link})\\n\\n\"\n",
    "Markdown(link_str)"
   ]
  },
  {
   "cell_type": "markdown",
   "metadata": {},
   "source": [
    "That's great, but we can go a little deeper. Inside `response.candidates[0].grounding_metadata` we also have a `grounding_support` property containing a list of `GroundingSupport` objects, each of those mapping to the `GroundingChunk` objects that we already parsed above. We'll combine this information with our `title` and `link` data to create a list of `Citation` objects."
   ]
  },
  {
   "cell_type": "code",
   "execution_count": 8,
   "metadata": {},
   "outputs": [],
   "source": [
    "from pydantic import BaseModel\n",
    "\n",
    "class Citation(BaseModel):\n",
    "    title: str\n",
    "    score: float\n",
    "    start_index: int\n",
    "    end_index: int\n",
    "    chunk_index: int\n",
    "    link: str\n",
    "\n",
    "    def get_link(self):\n",
    "        return f\"_[[{self.chunk_index+1}]({self.link})]_\"\n",
    "    \n",
    "    def count_chars(self):\n",
    "        return len(self.get_link())"
   ]
  },
  {
   "cell_type": "code",
   "execution_count": 9,
   "metadata": {},
   "outputs": [],
   "source": [
    "citations = []\n",
    "for support in response.candidates[0].grounding_metadata.grounding_supports:\n",
    "    chunk_index = support.grounding_chunk_indices[0]\n",
    "    citations.append(\n",
    "        Citation(\n",
    "            title=response.candidates[0].grounding_metadata.grounding_chunks[chunk_index].web.title,\n",
    "            score=support.confidence_scores[0],\n",
    "            start_index=support.segment.start_index,\n",
    "            end_index=support.segment.end_index,\n",
    "            chunk_index=chunk_index,\n",
    "            link=response.candidates[0].grounding_metadata.grounding_chunks[chunk_index].web.uri,\n",
    "        )\n",
    "    )"
   ]
  },
  {
   "cell_type": "code",
   "execution_count": 10,
   "metadata": {},
   "outputs": [
    {
     "data": {
      "text/plain": [
       "[Citation(title='artificialintelligence-news.com', score=0.8782686, start_index=86, end_index=229, chunk_index=0, link='https://vertexaisearch.cloud.google.com/grounding-api-redirect/AYygrcRQ5GdEmPgNzz3r4AaXQCtleWqP29sDHuwddXo_M992yvPTKTJZ8XapssxVUUxcWNLhCpAUNm0XMrlfmJ53DmO7tQDUmu3iOwOuo8vb08TRdaXL8jSguBgqUdjGduo3KdQTQw=='),\n",
       " Citation(title='artificialintelligence-news.com', score=0.8888342, start_index=230, end_index=320, chunk_index=0, link='https://vertexaisearch.cloud.google.com/grounding-api-redirect/AYygrcRQ5GdEmPgNzz3r4AaXQCtleWqP29sDHuwddXo_M992yvPTKTJZ8XapssxVUUxcWNLhCpAUNm0XMrlfmJ53DmO7tQDUmu3iOwOuo8vb08TRdaXL8jSguBgqUdjGduo3KdQTQw=='),\n",
       " Citation(title='mit.edu', score=0.73191243, start_index=321, end_index=522, chunk_index=1, link='https://vertexaisearch.cloud.google.com/grounding-api-redirect/AYygrcQwqsNU9baZEBILLWnA5mDuqvUSEfmb_E12Z8K6sa0MlOs-oOXZptSmFPVld5veeEV-cp9HsYpnrBzHGYLmtotIJl-m_rI2LQxpGEqn4Ywish1WATGSkv1RCCFn0vqfr4NlqQcVwN-kobI='),\n",
       " Citation(title='mit.edu', score=0.74100494, start_index=523, end_index=588, chunk_index=1, link='https://vertexaisearch.cloud.google.com/grounding-api-redirect/AYygrcQwqsNU9baZEBILLWnA5mDuqvUSEfmb_E12Z8K6sa0MlOs-oOXZptSmFPVld5veeEV-cp9HsYpnrBzHGYLmtotIJl-m_rI2LQxpGEqn4Ywish1WATGSkv1RCCFn0vqfr4NlqQcVwN-kobI='),\n",
       " Citation(title='mit.edu', score=0.95988286, start_index=589, end_index=820, chunk_index=1, link='https://vertexaisearch.cloud.google.com/grounding-api-redirect/AYygrcQwqsNU9baZEBILLWnA5mDuqvUSEfmb_E12Z8K6sa0MlOs-oOXZptSmFPVld5veeEV-cp9HsYpnrBzHGYLmtotIJl-m_rI2LQxpGEqn4Ywish1WATGSkv1RCCFn0vqfr4NlqQcVwN-kobI='),\n",
       " Citation(title='mit.edu', score=0.85801923, start_index=821, end_index=967, chunk_index=1, link='https://vertexaisearch.cloud.google.com/grounding-api-redirect/AYygrcQwqsNU9baZEBILLWnA5mDuqvUSEfmb_E12Z8K6sa0MlOs-oOXZptSmFPVld5veeEV-cp9HsYpnrBzHGYLmtotIJl-m_rI2LQxpGEqn4Ywish1WATGSkv1RCCFn0vqfr4NlqQcVwN-kobI='),\n",
       " Citation(title='mit.edu', score=0.8851399, start_index=968, end_index=1044, chunk_index=1, link='https://vertexaisearch.cloud.google.com/grounding-api-redirect/AYygrcQwqsNU9baZEBILLWnA5mDuqvUSEfmb_E12Z8K6sa0MlOs-oOXZptSmFPVld5veeEV-cp9HsYpnrBzHGYLmtotIJl-m_rI2LQxpGEqn4Ywish1WATGSkv1RCCFn0vqfr4NlqQcVwN-kobI='),\n",
       " Citation(title='mit.edu', score=0.61632144, start_index=1297, end_index=1382, chunk_index=1, link='https://vertexaisearch.cloud.google.com/grounding-api-redirect/AYygrcQwqsNU9baZEBILLWnA5mDuqvUSEfmb_E12Z8K6sa0MlOs-oOXZptSmFPVld5veeEV-cp9HsYpnrBzHGYLmtotIJl-m_rI2LQxpGEqn4Ywish1WATGSkv1RCCFn0vqfr4NlqQcVwN-kobI='),\n",
       " Citation(title='mit.edu', score=0.9884688, start_index=1593, end_index=1739, chunk_index=1, link='https://vertexaisearch.cloud.google.com/grounding-api-redirect/AYygrcQwqsNU9baZEBILLWnA5mDuqvUSEfmb_E12Z8K6sa0MlOs-oOXZptSmFPVld5veeEV-cp9HsYpnrBzHGYLmtotIJl-m_rI2LQxpGEqn4Ywish1WATGSkv1RCCFn0vqfr4NlqQcVwN-kobI='),\n",
       " Citation(title='artificialintelligence-news.com', score=0.9286032, start_index=1859, end_index=2008, chunk_index=0, link='https://vertexaisearch.cloud.google.com/grounding-api-redirect/AYygrcRQ5GdEmPgNzz3r4AaXQCtleWqP29sDHuwddXo_M992yvPTKTJZ8XapssxVUUxcWNLhCpAUNm0XMrlfmJ53DmO7tQDUmu3iOwOuo8vb08TRdaXL8jSguBgqUdjGduo3KdQTQw=='),\n",
       " Citation(title='mit.edu', score=0.9734461, start_index=2009, end_index=2124, chunk_index=1, link='https://vertexaisearch.cloud.google.com/grounding-api-redirect/AYygrcQwqsNU9baZEBILLWnA5mDuqvUSEfmb_E12Z8K6sa0MlOs-oOXZptSmFPVld5veeEV-cp9HsYpnrBzHGYLmtotIJl-m_rI2LQxpGEqn4Ywish1WATGSkv1RCCFn0vqfr4NlqQcVwN-kobI='),\n",
       " Citation(title='forbes.com', score=0.6706448, start_index=2288, end_index=2399, chunk_index=2, link='https://vertexaisearch.cloud.google.com/grounding-api-redirect/AYygrcSGcTcJ4fsucHQfs_GXQ2-yE8eORAiz-lPxOcdt7Z-Ijr1yizEt2vHBaJo_Xch79fUka-8xfRSK2G69kJYZmjCJajX8ofcsDr4g6R7f9P2aAdL2iZkrmCQtuWsRd25xD1sI00OC2FdExhskRPY=')]"
      ]
     },
     "execution_count": 10,
     "metadata": {},
     "output_type": "execute_result"
    }
   ],
   "source": [
    "# sort citations by start_index\n",
    "citations.sort(key=lambda x: x.start_index)\n",
    "citations"
   ]
  },
  {
   "cell_type": "markdown",
   "metadata": {},
   "source": [
    "We can get our citation links like so:"
   ]
  },
  {
   "cell_type": "code",
   "execution_count": 11,
   "metadata": {},
   "outputs": [
    {
     "data": {
      "text/plain": [
       "'_[[1](https://vertexaisearch.cloud.google.com/grounding-api-redirect/AYygrcRQ5GdEmPgNzz3r4AaXQCtleWqP29sDHuwddXo_M992yvPTKTJZ8XapssxVUUxcWNLhCpAUNm0XMrlfmJ53DmO7tQDUmu3iOwOuo8vb08TRdaXL8jSguBgqUdjGduo3KdQTQw==)]_'"
      ]
     },
     "execution_count": 11,
     "metadata": {},
     "output_type": "execute_result"
    }
   ],
   "source": [
    "citations[0].get_link()"
   ]
  },
  {
   "cell_type": "markdown",
   "metadata": {},
   "source": [
    "With all of this information, we can go back to our original `response.text` and add these into our response."
   ]
  },
  {
   "cell_type": "code",
   "execution_count": 12,
   "metadata": {},
   "outputs": [
    {
     "data": {
      "text/markdown": [
       "Here's a rundown of the latest news in AI:\n",
       "\n",
       "**AI Model Development & Advancements:**\n",
       "\n",
       "*   **Google's New Generative AI Models:** Google Cloud has launched two new generative AI models, Veo and Imagen 3, on its Vertex AI platform._[[1](https://vertexaisearch.cloud.google.com/grounding-api-redirect/AYygrcRQ5GdEmPgNzz3r4AaXQCtleWqP29sDHuwddXo_M992yvPTKTJZ8XapssxVUUxcWNLhCpAUNm0XMrlfmJ53DmO7tQDUmu3iOwOuo8vb08TRdaXL8jSguBgqUdjGduo3KdQTQw==)]_ This comes amid reports of significant revenue growth for enterprises using generative AI._[[1](https://vertexaisearch.cloud.google.com/grounding-api-redirect/AYygrcRQ5GdEmPgNzz3r4AaXQCtleWqP29sDHuwddXo_M992yvPTKTJZ8XapssxVUUxcWNLhCpAUNm0XMrlfmJ53DmO7tQDUmu3iOwOuo8vb08TRdaXL8jSguBgqUdjGduo3KdQTQw==)]_\n",
       "*   **Teaching Robots Limits:** MIT researchers have developed a method called \"PRoC3S\" that helps large language models (LLMs) create safe action plans for robots by testing each step in a simulation._[[2](https://vertexaisearch.cloud.google.com/grounding-api-redirect/AYygrcQwqsNU9baZEBILLWnA5mDuqvUSEfmb_E12Z8K6sa0MlOs-oOXZptSmFPVld5veeEV-cp9HsYpnrBzHGYLmtotIJl-m_rI2LQxpGEqn4Ywish1WATGSkv1RCCFn0vqfr4NlqQcVwN-kobI=)]_ This could help robots complete more complex tasks in the future._[[2](https://vertexaisearch.cloud.google.com/grounding-api-redirect/AYygrcQwqsNU9baZEBILLWnA5mDuqvUSEfmb_E12Z8K6sa0MlOs-oOXZptSmFPVld5veeEV-cp9HsYpnrBzHGYLmtotIJl-m_rI2LQxpGEqn4Ywish1WATGSkv1RCCFn0vqfr4NlqQcVwN-kobI=)]_\n",
       "*   **Reducing Bias in AI:** Researchers have created a new technique to identify and remove training examples that contribute to failures in machine learning models, which helps reduce bias while maintaining or improving accuracy._[[2](https://vertexaisearch.cloud.google.com/grounding-api-redirect/AYygrcQwqsNU9baZEBILLWnA5mDuqvUSEfmb_E12Z8K6sa0MlOs-oOXZptSmFPVld5veeEV-cp9HsYpnrBzHGYLmtotIJl-m_rI2LQxpGEqn4Ywish1WATGSkv1RCCFn0vqfr4NlqQcVwN-kobI=)]_\n",
       "*   **AI Explanations in Plain Language:** Researchers are using LLMs to convert machine-learning explanations into easy-to-understand narratives._[[2](https://vertexaisearch.cloud.google.com/grounding-api-redirect/AYygrcQwqsNU9baZEBILLWnA5mDuqvUSEfmb_E12Z8K6sa0MlOs-oOXZptSmFPVld5veeEV-cp9HsYpnrBzHGYLmtotIJl-m_rI2LQxpGEqn4Ywish1WATGSkv1RCCFn0vqfr4NlqQcVwN-kobI=)]_ This could help users make better decisions about when to trust an AI model._[[2](https://vertexaisearch.cloud.google.com/grounding-api-redirect/AYygrcQwqsNU9baZEBILLWnA5mDuqvUSEfmb_E12Z8K6sa0MlOs-oOXZptSmFPVld5veeEV-cp9HsYpnrBzHGYLmtotIJl-m_rI2LQxpGEqn4Ywish1WATGSkv1RCCFn0vqfr4NlqQcVwN-kobI=)]_\n",
       "\n",
       "**AI in Specific Fields:**\n",
       "\n",
       "*   **AI and Mental Health:** There is growing discussion about the potential of AI in mental health, with experts exploring its possibilities.\n",
       "*   **AI in Healthcare:** AI is changing how doctors access medical knowledge. There is also a call for regulation of AI models and non-AI algorithms in healthcare._[[2](https://vertexaisearch.cloud.google.com/grounding-api-redirect/AYygrcQwqsNU9baZEBILLWnA5mDuqvUSEfmb_E12Z8K6sa0MlOs-oOXZptSmFPVld5veeEV-cp9HsYpnrBzHGYLmtotIJl-m_rI2LQxpGEqn4Ywish1WATGSkv1RCCFn0vqfr4NlqQcVwN-kobI=)]_\n",
       "*   **AI in Media:** AI video generation is transforming media, with new tools like Sora emerging. This raises questions about the strengths and challenges of AI-generated content.\n",
       "\n",
       "**Other Notable AI News:**\n",
       "\n",
       "*   **AI Political Bias:** Research from MIT has found that some language reward models exhibit political bias, even when trained on factual data._[[2](https://vertexaisearch.cloud.google.com/grounding-api-redirect/AYygrcQwqsNU9baZEBILLWnA5mDuqvUSEfmb_E12Z8K6sa0MlOs-oOXZptSmFPVld5veeEV-cp9HsYpnrBzHGYLmtotIJl-m_rI2LQxpGEqn4Ywish1WATGSkv1RCCFn0vqfr4NlqQcVwN-kobI=)]_\n",
       "*   **AI Deepfakes:** There is increasing discussion on how to spot AI deepfake videos in an era of digital deception.\n",
       "*   **AI Partner Programs:** Alibaba Cloud is overhauling its AI partner ecosystem with new initiatives, including an AI partner accelerator program._[[1](https://vertexaisearch.cloud.google.com/grounding-api-redirect/AYygrcRQ5GdEmPgNzz3r4AaXQCtleWqP29sDHuwddXo_M992yvPTKTJZ8XapssxVUUxcWNLhCpAUNm0XMrlfmJ53DmO7tQDUmu3iOwOuo8vb08TRdaXL8jSguBgqUdjGduo3KdQTQw==)]_\n",
       "*   **AI in Robotics:** Daniela Rus, director of MIT CSAIL, has won the John Scott Award for her robotics research._[[2](https://vertexaisearch.cloud.google.com/grounding-api-redirect/AYygrcQwqsNU9baZEBILLWnA5mDuqvUSEfmb_E12Z8K6sa0MlOs-oOXZptSmFPVld5veeEV-cp9HsYpnrBzHGYLmtotIJl-m_rI2LQxpGEqn4Ywish1WATGSkv1RCCFn0vqfr4NlqQcVwN-kobI=)]_\n",
       "\n",
       "**General Trends:**\n",
       "\n",
       "*   **AI Regulation:** There is an ongoing discussion about the need for regulation of AI, particularly in sensitive fields like healthcare.\n",
       "*   **AI Learning:** There are many free online courses available for those who want to learn about AI in 2025._[[3](https://vertexaisearch.cloud.google.com/grounding-api-redirect/AYygrcSGcTcJ4fsucHQfs_GXQ2-yE8eORAiz-lPxOcdt7Z-Ijr1yizEt2vHBaJo_Xch79fUka-8xfRSK2G69kJYZmjCJajX8ofcsDr4g6R7f9P2aAdL2iZkrmCQtuWsRd25xD1sI00OC2FdExhskRPY=)]_\n",
       "\n",
       "This information is based on the latest news articles available as of today, December 14, 2024.\n"
      ],
      "text/plain": [
       "<IPython.core.display.Markdown object>"
      ]
     },
     "execution_count": 12,
     "metadata": {},
     "output_type": "execute_result"
    }
   ],
   "source": [
    "final_response = response.text\n",
    "offset = 0\n",
    "for citation in citations:\n",
    "    final_response = (\n",
    "        final_response[:citation.end_index+offset] +\n",
    "        citation.get_link() +\n",
    "        final_response[citation.end_index+offset:]\n",
    "    )\n",
    "    offset += citation.count_chars()\n",
    "Markdown(final_response)"
   ]
  },
  {
   "cell_type": "markdown",
   "metadata": {},
   "source": [
    "We now have functional inline citations inside our response, let's finish by adding a final block containing the more detailed citations."
   ]
  },
  {
   "cell_type": "code",
   "execution_count": 13,
   "metadata": {},
   "outputs": [
    {
     "data": {
      "text/markdown": [
       "Here's a rundown of the latest news in AI:\n",
       "\n",
       "**AI Model Development & Advancements:**\n",
       "\n",
       "*   **Google's New Generative AI Models:** Google Cloud has launched two new generative AI models, Veo and Imagen 3, on its Vertex AI platform._[[1](https://vertexaisearch.cloud.google.com/grounding-api-redirect/AYygrcRQ5GdEmPgNzz3r4AaXQCtleWqP29sDHuwddXo_M992yvPTKTJZ8XapssxVUUxcWNLhCpAUNm0XMrlfmJ53DmO7tQDUmu3iOwOuo8vb08TRdaXL8jSguBgqUdjGduo3KdQTQw==)]_ This comes amid reports of significant revenue growth for enterprises using generative AI._[[1](https://vertexaisearch.cloud.google.com/grounding-api-redirect/AYygrcRQ5GdEmPgNzz3r4AaXQCtleWqP29sDHuwddXo_M992yvPTKTJZ8XapssxVUUxcWNLhCpAUNm0XMrlfmJ53DmO7tQDUmu3iOwOuo8vb08TRdaXL8jSguBgqUdjGduo3KdQTQw==)]_\n",
       "*   **Teaching Robots Limits:** MIT researchers have developed a method called \"PRoC3S\" that helps large language models (LLMs) create safe action plans for robots by testing each step in a simulation._[[2](https://vertexaisearch.cloud.google.com/grounding-api-redirect/AYygrcQwqsNU9baZEBILLWnA5mDuqvUSEfmb_E12Z8K6sa0MlOs-oOXZptSmFPVld5veeEV-cp9HsYpnrBzHGYLmtotIJl-m_rI2LQxpGEqn4Ywish1WATGSkv1RCCFn0vqfr4NlqQcVwN-kobI=)]_ This could help robots complete more complex tasks in the future._[[2](https://vertexaisearch.cloud.google.com/grounding-api-redirect/AYygrcQwqsNU9baZEBILLWnA5mDuqvUSEfmb_E12Z8K6sa0MlOs-oOXZptSmFPVld5veeEV-cp9HsYpnrBzHGYLmtotIJl-m_rI2LQxpGEqn4Ywish1WATGSkv1RCCFn0vqfr4NlqQcVwN-kobI=)]_\n",
       "*   **Reducing Bias in AI:** Researchers have created a new technique to identify and remove training examples that contribute to failures in machine learning models, which helps reduce bias while maintaining or improving accuracy._[[2](https://vertexaisearch.cloud.google.com/grounding-api-redirect/AYygrcQwqsNU9baZEBILLWnA5mDuqvUSEfmb_E12Z8K6sa0MlOs-oOXZptSmFPVld5veeEV-cp9HsYpnrBzHGYLmtotIJl-m_rI2LQxpGEqn4Ywish1WATGSkv1RCCFn0vqfr4NlqQcVwN-kobI=)]_\n",
       "*   **AI Explanations in Plain Language:** Researchers are using LLMs to convert machine-learning explanations into easy-to-understand narratives._[[2](https://vertexaisearch.cloud.google.com/grounding-api-redirect/AYygrcQwqsNU9baZEBILLWnA5mDuqvUSEfmb_E12Z8K6sa0MlOs-oOXZptSmFPVld5veeEV-cp9HsYpnrBzHGYLmtotIJl-m_rI2LQxpGEqn4Ywish1WATGSkv1RCCFn0vqfr4NlqQcVwN-kobI=)]_ This could help users make better decisions about when to trust an AI model._[[2](https://vertexaisearch.cloud.google.com/grounding-api-redirect/AYygrcQwqsNU9baZEBILLWnA5mDuqvUSEfmb_E12Z8K6sa0MlOs-oOXZptSmFPVld5veeEV-cp9HsYpnrBzHGYLmtotIJl-m_rI2LQxpGEqn4Ywish1WATGSkv1RCCFn0vqfr4NlqQcVwN-kobI=)]_\n",
       "\n",
       "**AI in Specific Fields:**\n",
       "\n",
       "*   **AI and Mental Health:** There is growing discussion about the potential of AI in mental health, with experts exploring its possibilities.\n",
       "*   **AI in Healthcare:** AI is changing how doctors access medical knowledge. There is also a call for regulation of AI models and non-AI algorithms in healthcare._[[2](https://vertexaisearch.cloud.google.com/grounding-api-redirect/AYygrcQwqsNU9baZEBILLWnA5mDuqvUSEfmb_E12Z8K6sa0MlOs-oOXZptSmFPVld5veeEV-cp9HsYpnrBzHGYLmtotIJl-m_rI2LQxpGEqn4Ywish1WATGSkv1RCCFn0vqfr4NlqQcVwN-kobI=)]_\n",
       "*   **AI in Media:** AI video generation is transforming media, with new tools like Sora emerging. This raises questions about the strengths and challenges of AI-generated content.\n",
       "\n",
       "**Other Notable AI News:**\n",
       "\n",
       "*   **AI Political Bias:** Research from MIT has found that some language reward models exhibit political bias, even when trained on factual data._[[2](https://vertexaisearch.cloud.google.com/grounding-api-redirect/AYygrcQwqsNU9baZEBILLWnA5mDuqvUSEfmb_E12Z8K6sa0MlOs-oOXZptSmFPVld5veeEV-cp9HsYpnrBzHGYLmtotIJl-m_rI2LQxpGEqn4Ywish1WATGSkv1RCCFn0vqfr4NlqQcVwN-kobI=)]_\n",
       "*   **AI Deepfakes:** There is increasing discussion on how to spot AI deepfake videos in an era of digital deception.\n",
       "*   **AI Partner Programs:** Alibaba Cloud is overhauling its AI partner ecosystem with new initiatives, including an AI partner accelerator program._[[1](https://vertexaisearch.cloud.google.com/grounding-api-redirect/AYygrcRQ5GdEmPgNzz3r4AaXQCtleWqP29sDHuwddXo_M992yvPTKTJZ8XapssxVUUxcWNLhCpAUNm0XMrlfmJ53DmO7tQDUmu3iOwOuo8vb08TRdaXL8jSguBgqUdjGduo3KdQTQw==)]_\n",
       "*   **AI in Robotics:** Daniela Rus, director of MIT CSAIL, has won the John Scott Award for her robotics research._[[2](https://vertexaisearch.cloud.google.com/grounding-api-redirect/AYygrcQwqsNU9baZEBILLWnA5mDuqvUSEfmb_E12Z8K6sa0MlOs-oOXZptSmFPVld5veeEV-cp9HsYpnrBzHGYLmtotIJl-m_rI2LQxpGEqn4Ywish1WATGSkv1RCCFn0vqfr4NlqQcVwN-kobI=)]_\n",
       "\n",
       "**General Trends:**\n",
       "\n",
       "*   **AI Regulation:** There is an ongoing discussion about the need for regulation of AI, particularly in sensitive fields like healthcare.\n",
       "*   **AI Learning:** There are many free online courses available for those who want to learn about AI in 2025._[[3](https://vertexaisearch.cloud.google.com/grounding-api-redirect/AYygrcSGcTcJ4fsucHQfs_GXQ2-yE8eORAiz-lPxOcdt7Z-Ijr1yizEt2vHBaJo_Xch79fUka-8xfRSK2G69kJYZmjCJajX8ofcsDr4g6R7f9P2aAdL2iZkrmCQtuWsRd25xD1sI00OC2FdExhskRPY=)]_\n",
       "\n",
       "This information is based on the latest news articles available as of today, December 14, 2024.\n",
       "\n",
       "\n",
       "**Citations**\n",
       "\n",
       "[1] [artificialintelligence-news.com](https://vertexaisearch.cloud.google.com/grounding-api-redirect/AYygrcRQ5GdEmPgNzz3r4AaXQCtleWqP29sDHuwddXo_M992yvPTKTJZ8XapssxVUUxcWNLhCpAUNm0XMrlfmJ53DmO7tQDUmu3iOwOuo8vb08TRdaXL8jSguBgqUdjGduo3KdQTQw==)\n",
       "\n",
       "[2] [mit.edu](https://vertexaisearch.cloud.google.com/grounding-api-redirect/AYygrcQwqsNU9baZEBILLWnA5mDuqvUSEfmb_E12Z8K6sa0MlOs-oOXZptSmFPVld5veeEV-cp9HsYpnrBzHGYLmtotIJl-m_rI2LQxpGEqn4Ywish1WATGSkv1RCCFn0vqfr4NlqQcVwN-kobI=)\n",
       "\n",
       "[3] [forbes.com](https://vertexaisearch.cloud.google.com/grounding-api-redirect/AYygrcSGcTcJ4fsucHQfs_GXQ2-yE8eORAiz-lPxOcdt7Z-Ijr1yizEt2vHBaJo_Xch79fUka-8xfRSK2G69kJYZmjCJajX8ofcsDr4g6R7f9P2aAdL2iZkrmCQtuWsRd25xD1sI00OC2FdExhskRPY=)\n",
       "\n"
      ],
      "text/plain": [
       "<IPython.core.display.Markdown object>"
      ]
     },
     "execution_count": 13,
     "metadata": {},
     "output_type": "execute_result"
    }
   ],
   "source": [
    "final_response = f\"{final_response}\\n\\n**Citations**\\n\\n{link_str}\"\n",
    "Markdown(final_response)"
   ]
  },
  {
   "cell_type": "markdown",
   "metadata": {},
   "source": [
    "---"
   ]
  }
 ],
 "metadata": {
  "kernelspec": {
   "display_name": ".venv",
   "language": "python",
   "name": "python3"
  },
  "language_info": {
   "codemirror_mode": {
    "name": "ipython",
    "version": 3
   },
   "file_extension": ".py",
   "mimetype": "text/x-python",
   "name": "python",
   "nbconvert_exporter": "python",
   "pygments_lexer": "ipython3",
   "version": "3.12.7"
  }
 },
 "nbformat": 4,
 "nbformat_minor": 2
}
